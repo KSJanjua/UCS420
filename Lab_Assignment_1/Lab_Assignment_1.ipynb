{
 "cells": [
  {
   "cell_type": "code",
   "execution_count": 5,
   "id": "cb726bfb-cb89-4c4d-bb8c-a22585755cc4",
   "metadata": {},
   "outputs": [
    {
     "name": "stdout",
     "output_type": "stream",
     "text": [
      "Karanvir Singh\n",
      "Karanvir Singh\n",
      "Karanvir Singh\n"
     ]
    }
   ],
   "source": [
    "# Assignment 1.1 : WAP to print your name three times\n",
    "\n",
    "print(\"Karanvir Singh\")\n",
    "print(\"Karanvir Singh\")\n",
    "print(\"Karanvir Singh\")"
   ]
  },
  {
   "cell_type": "code",
   "execution_count": 6,
   "id": "3fb83646-28d9-4171-8814-534004e037e6",
   "metadata": {},
   "outputs": [
    {
     "name": "stdout",
     "output_type": "stream",
     "text": [
      "75  +  150  +  275  ---->  500\n"
     ]
    }
   ],
   "source": [
    "# Assignment 1.2 : WAP to add three numbers and print the result\n",
    "\n",
    "num1 = 75\n",
    "num2 = 150\n",
    "num3 = 275\n",
    "result = num1 + num2 + num3\n",
    "print(num1,\" + \",num2,\" + \",num3,\" ----> \",result)"
   ]
  },
  {
   "cell_type": "code",
   "execution_count": 7,
   "id": "01cc2352-1b9f-452d-9c50-0d73d1e99026",
   "metadata": {},
   "outputs": [
    {
     "name": "stdout",
     "output_type": "stream",
     "text": [
      "Hello World!  +   How are you?  +   I am fine. Thank you!  ---->  Hello World! How are you? I am fine. Thank you!\n"
     ]
    }
   ],
   "source": [
    "# Assignment 2.2 : WAP to concatinate three strings and print the result\n",
    "\n",
    "str1 = \"Hello World!\"\n",
    "str2 = \" How are you?\"\n",
    "str3 = \" I am fine. Thank you!\"\n",
    "result = str1 + str2 + str3\n",
    "print(str1,\" + \",str2,\" + \",str3,\" ----> \",result)"
   ]
  },
  {
   "cell_type": "code",
   "execution_count": 8,
   "id": "1fb08e29-ea47-4a54-bd8d-afff7c0c41af",
   "metadata": {},
   "outputs": [
    {
     "name": "stdout",
     "output_type": "stream",
     "text": [
      "Table of 7\n",
      "7 *  1  =  7\n",
      "7 *  2  =  14\n",
      "7 *  3  =  21\n",
      "7 *  4  =  28\n",
      "7 *  5  =  35\n",
      "7 *  6  =  42\n",
      "7 *  7  =  49\n",
      "7 *  8  =  56\n",
      "7 *  9  =  63\n",
      "7 *  10  =  70\n",
      "\n",
      "Table of 9\n",
      "9 *  1  =  9\n",
      "9 *  2  =  18\n",
      "9 *  3  =  27\n",
      "9 *  4  =  36\n",
      "9 *  5  =  45\n",
      "9 *  6  =  54\n",
      "9 *  7  =  63\n",
      "9 *  8  =  72\n",
      "9 *  9  =  81\n",
      "9 *  10  =  90\n"
     ]
    }
   ],
   "source": [
    "# Assignment 4.1 : WAP to print the table of 7,9\n",
    "\n",
    "print(\"Table of 7\")\n",
    "for i in range(1,11):\n",
    "    print(\"7 * \", i, \" = \", 7*i)\n",
    "    \n",
    "print()\n",
    "\n",
    "print(\"Table of 9\")\n",
    "for i in range(1,11):\n",
    "    print(\"9 * \", i,\" = \", 9*i)"
   ]
  },
  {
   "cell_type": "code",
   "execution_count": 9,
   "id": "9f8069f7-d1b0-4952-a45e-50d0111a94b7",
   "metadata": {},
   "outputs": [
    {
     "name": "stdin",
     "output_type": "stream",
     "text": [
      "Enter number:  10\n"
     ]
    },
    {
     "name": "stdout",
     "output_type": "stream",
     "text": [
      "Table of  10\n",
      "10  *  1  =  10\n",
      "10  *  2  =  20\n",
      "10  *  3  =  30\n",
      "10  *  4  =  40\n",
      "10  *  5  =  50\n",
      "10  *  6  =  60\n",
      "10  *  7  =  70\n",
      "10  *  8  =  80\n",
      "10  *  9  =  90\n",
      "10  *  10  =  100\n"
     ]
    }
   ],
   "source": [
    "# Assignment 4.2 : WAP to print the table of n and n is given by user\n",
    "\n",
    "num = int(input(\"Enter number: \"))\n",
    "print(\"Table of \",num)\n",
    "for i in range(1,11):\n",
    "    print(num,\" * \", i, \" = \", num*i)"
   ]
  },
  {
   "cell_type": "code",
   "execution_count": 10,
   "id": "02c115ea-3a73-41ad-87ca-db4ffb4018c0",
   "metadata": {},
   "outputs": [
    {
     "name": "stdin",
     "output_type": "stream",
     "text": [
      "Enter number:  10\n"
     ]
    },
    {
     "name": "stdout",
     "output_type": "stream",
     "text": [
      "55\n"
     ]
    }
   ],
   "source": [
    "# Asssignment 4.3 : WAP to add all the numbers from 1 to n and n is given by user\n",
    "\n",
    "num = int(input(\"Enter number: \"))\n",
    "print(sum(range(1,num+1)))"
   ]
  },
  {
   "cell_type": "code",
   "execution_count": 17,
   "id": "3d569f09-a6ac-415f-8182-72e025d6dca3",
   "metadata": {},
   "outputs": [
    {
     "name": "stdout",
     "output_type": "stream",
     "text": [
      "Max:  10\n"
     ]
    }
   ],
   "source": [
    "# Assignment 5.1 : WAP to find max among three numbers and input from user. [Try max() function]\n",
    "\n",
    "num1 = 7 \n",
    "num2 = 10\n",
    "num3 = 8\n",
    "print(\"Max: \", max(num1,num2,num3))"
   ]
  },
  {
   "cell_type": "code",
   "execution_count": 29,
   "id": "56b8a64b-3010-4342-9f87-37854bc59a9b",
   "metadata": {},
   "outputs": [
    {
     "name": "stdin",
     "output_type": "stream",
     "text": [
      "Enter a number:  129\n"
     ]
    },
    {
     "name": "stdout",
     "output_type": "stream",
     "text": [
      "Sum of all numbers divisible by 7 and 9 from 1 to  129  =  189\n"
     ]
    }
   ],
   "source": [
    "# Assignment 5.2 : WAP to add all numbers divisible by 7 and 9 from 1 to n and n is given by the user.\n",
    "\n",
    "n = int(input(\"Enter a number: \"))\n",
    "result = 0\n",
    "\n",
    "for i in range(1,n+1):\n",
    "    if i%63 == 0:\n",
    "        result += i\n",
    "\n",
    "print(\"Sum of all numbers divisible by 7 and 9 from 1 to \",n,\" = \",result)"
   ]
  },
  {
   "cell_type": "code",
   "execution_count": 39,
   "id": "912f046f-83f6-48b5-9ac3-f8b6fb151c76",
   "metadata": {},
   "outputs": [
    {
     "name": "stdin",
     "output_type": "stream",
     "text": [
      "Enter a number:  10\n"
     ]
    },
    {
     "name": "stdout",
     "output_type": "stream",
     "text": [
      "Sum of all prime numbers from 1 to  10  =  17\n"
     ]
    }
   ],
   "source": [
    "# Assignment 5.3 : WAP to add all prime numbers from 1 to n and n is given by the user.\n",
    "\n",
    "n = int(input(\"Enter a number: \"))\n",
    "result = 0\n",
    "\n",
    "for i in range(2,n+1):\n",
    "    is_prime = 1\n",
    "    for j in range(2,i//2+1):\n",
    "        if i%j==0:\n",
    "            is_prime = 0\n",
    "    if is_prime:\n",
    "        result += i\n",
    "    else:\n",
    "        continue\n",
    "\n",
    "print(\"Sum of all prime numbers from 1 to \",n,\" = \",result)"
   ]
  },
  {
   "cell_type": "code",
   "execution_count": 43,
   "id": "f4a27c4c-4659-48e6-a498-93c46105080f",
   "metadata": {},
   "outputs": [
    {
     "name": "stdin",
     "output_type": "stream",
     "text": [
      "Enter a number:  11\n"
     ]
    },
    {
     "name": "stdout",
     "output_type": "stream",
     "text": [
      "Sum of all odd numbers from 1 to  11 :  36\n"
     ]
    }
   ],
   "source": [
    "# Assignment 6.1: WAP using function that add all odd numbers from 1 to n, n is given by the user.\n",
    "\n",
    "def add_odd(n):\n",
    "    result = 0\n",
    "    for i in range(1,n+1):\n",
    "        if (i%2!=0):\n",
    "            result += i\n",
    "    return result\n",
    "\n",
    "n = int(input(\"Enter a number: \"))\n",
    "print(\"Sum of all odd numbers from 1 to \",n,\": \",add_odd(n))"
   ]
  },
  {
   "cell_type": "code",
   "execution_count": 95,
   "id": "c1e93367-540d-4343-971a-d94773e0b5e4",
   "metadata": {},
   "outputs": [
    {
     "name": "stdin",
     "output_type": "stream",
     "text": [
      "Enter a number:  10\n"
     ]
    },
    {
     "name": "stdout",
     "output_type": "stream",
     "text": [
      "Sum of all prime numbers from 1 to %d: %d 10 17\n"
     ]
    }
   ],
   "source": [
    "# Assingment 6.2: WAP using function that add all prime numbers from 1 to n, n given by the user.\n",
    "\n",
    "def add_prime(n):\n",
    "    result = 0\n",
    "    for i in range(2,n+1):\n",
    "        is_prime = 1\n",
    "        for j in range(2,i//2+1):\n",
    "            if i%j==0:\n",
    "                is_prime = 0\n",
    "        if is_prime:\n",
    "            result += i\n",
    "        else:\n",
    "            continue\n",
    "\n",
    "    return result\n",
    "\n",
    "n = int(input(\"Enter a number: \"))\n",
    "print(\"Sum of all prime numbers from 1 to \",n,\": \",add_prime(n))"
   ]
  },
  {
   "cell_type": "code",
   "execution_count": 93,
   "id": "4c68052d-98a0-4567-854b-27f705eeef34",
   "metadata": {},
   "outputs": [
    {
     "name": "stdout",
     "output_type": "stream",
     "text": [
      "5 Combination 2   : 10\n",
      "factorial(5)      : 120\n",
      "gcd(5,10,15)      : 5\n",
      "sqrt(16)          : 4.0\n",
      "cbrt(27)          : 3.0\n",
      "lcm(2,4,5)        : 20\n",
      "5 permutation 2   : 20\n",
      "ceil(89.95)       : 90\n",
      "floor(89.95)      : 89\n",
      "fabs(-45.23)      : 45.23\n",
      "trunc(2.36)       : 2\n",
      "exp(12)           : 162754.79141900392\n",
      "exp2(12)          : 4096.0\n",
      "log(100,10)       : 2.0\n",
      "log2(16)          : 4.0\n",
      "pow(3,4)          : 81.0\n",
      "degrees(m.pi)     : 180.0\n",
      "radians(30)       : 0.5235987755982988\n",
      "cos(30)           : 0.15425144988758405\n",
      "sin(m.pi)           : 1.2246467991473532e-16\n",
      "tan(30)           : -6.405331196646276\n",
      "sec(0.154)        : 1.4161810266339352\n",
      "cosec(0.425)      : 0.4389618856097607\n",
      "cot(10)           : 1.4711276743037347\n"
     ]
    }
   ],
   "source": [
    "# Math module\n",
    "import math as m\n",
    "\n",
    "print(\"5 Combination 2   :\", m.comb(5,2))        # number of ways to choose k items from n items without repetition and without order\n",
    "print(\"factorial(5)      :\", m.factorial(5))\n",
    "print(\"gcd(5,10,15)      :\", m.gcd(5,10,15))\n",
    "print(\"sqrt(16)          :\", m.sqrt(16))          # use isqrt for integer sqaure root\n",
    "print(\"cbrt(27)          :\", m.cbrt(27))\n",
    "print(\"lcm(2,4,5)        :\", m.lcm(2,4,5))\n",
    "print(\"5 permutation 2   :\", m.perm(5,2))        # number of ways to chose k items from n items without repetition and with order \n",
    "\n",
    "print(\"ceil(89.95)       :\", m.ceil(89.95)) \n",
    "print(\"floor(89.95)      :\", m.floor(89.95))\n",
    "print(\"fabs(-45.23)      :\", m.fabs(-45.23))     # absolute value\n",
    "print(\"trunc(2.36)       :\", m.trunc(2.36))\n",
    "print(\"exp(12)           :\", m.exp(12))          # e raised to power x\n",
    "print(\"exp2(12)          :\", m.exp2(12))         # 2 raised to power x\n",
    "print(\"log(100,10)       :\", m.log(100,10))      # log(x,base)\n",
    "print(\"log2(16)          :\", m.log2(16))         # Base-2 logarithm of x\n",
    "print(\"pow(3,4)          :\", m.pow(3,4))         # 3 raised to power 4\n",
    "print(\"degrees(m.pi)     :\", m.degrees(m.pi))    # convert angle x from radians to degrees\n",
    "print(\"radians(30)       :\", m.radians(30))\n",
    "print(\"cos(30)           :\", m.cos(30))\n",
    "print(\"sin(30)           :\", m.sin(30))\n",
    "print(\"tan(30)           :\", m.tan(30))\n",
    "print(\"sec(0.154)        :\", m.acos(0.154))\n",
    "print(\"cosec(0.425)      :\", m.asin(0.425))\n",
    "print(\"cot(10)           :\", m.atan(10))\n"
   ]
  },
  {
   "cell_type": "code",
   "execution_count": 138,
   "id": "76a2d223-5526-4e2c-8149-0f74933e02c6",
   "metadata": {},
   "outputs": [
    {
     "name": "stdout",
     "output_type": "stream",
     "text": [
      "Hello world! how are you? \t i am fine. thank you!\n",
      "Hello World! How Are You? \t I Am Fine. Thank You!\n",
      "hello world! how are you? \t i am fine. thank you!\n",
      "                         Hello World! How are you? \t I am fine. Thank you!                          \n",
      "3\n",
      "b'Hello World! How are you? \\t I am fine. Thank you!'\n",
      "True\n",
      "Hello World! How are you?   I am fine. Thank you!\n",
      "21\n",
      "False\n",
      "['Hello', 'World!', 'How', 'are', 'you?', 'I', 'am', 'fine.', 'Thank', 'you!']\n",
      "['Hello', 'World!', 'How', 'are', 'you?', '\\t', 'I', 'am', 'fine.', 'Thank', 'you!']\n",
      "['Hello World', ' How are you? \\t I am fine. Thank you', '']\n"
     ]
    }
   ],
   "source": [
    "my_str = \"Hello World! How are you? \\t I am fine. Thank you!\"\n",
    "\n",
    "print(my_str.capitalize())       #converts first character to upper case\n",
    "print(my_str.title())\n",
    "print(my_str.casefold())         #string in lower case\n",
    "print(my_str.center(100))\n",
    "print(my_str.count('a'))     \n",
    "print(my_str.encode())\n",
    "print(my_str.endswith(\"you!\"))\n",
    "print(my_str.expandtabs(tabsize=1))\n",
    "print(my_str.find(\"you\"))\n",
    "print(my_str.isalnum())          #similarly isalpha(),isascii(),isdecimal(),isdigit(),isidentifier(),islower(),isupper(),isnumeric(),isspace(),istitle())\n",
    "print(my_str.split())\n",
    "print(my_str.split(' '))\n",
    "print(my_str.split('!'))\n"
   ]
  },
  {
   "cell_type": "code",
   "execution_count": null,
   "id": "6e0f1b66-0fdb-4a81-a565-16c56476f549",
   "metadata": {},
   "outputs": [],
   "source": []
  },
  {
   "cell_type": "code",
   "execution_count": null,
   "id": "5614be5d-7a80-41eb-926c-52d1d8bfdc9c",
   "metadata": {},
   "outputs": [],
   "source": []
  }
 ],
 "metadata": {
  "kernelspec": {
   "display_name": "Python [conda env:base] *",
   "language": "python",
   "name": "conda-base-py"
  },
  "language_info": {
   "codemirror_mode": {
    "name": "ipython",
    "version": 3
   },
   "file_extension": ".py",
   "mimetype": "text/x-python",
   "name": "python",
   "nbconvert_exporter": "python",
   "pygments_lexer": "ipython3",
   "version": "3.12.7"
  }
 },
 "nbformat": 4,
 "nbformat_minor": 5
}
