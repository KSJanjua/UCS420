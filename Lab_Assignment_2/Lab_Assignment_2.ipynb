{
 "cells": [
  {
   "cell_type": "code",
   "execution_count": 6,
   "id": "8c4cb545-8b49-4a69-964d-35a87cf4988a",
   "metadata": {},
   "outputs": [
    {
     "name": "stdout",
     "output_type": "stream",
     "text": [
      "[10, 20, 30, 40, 50, 60, 70, 80]\n",
      "[10, 20, 30, 40, 50, 60, 70, 80, 200, 300]\n",
      "[20, 40, 50, 60, 70, 80, 200, 300]\n",
      "[20, 40, 50, 60, 70, 80, 200, 300]\n",
      "[300, 200, 80, 70, 60, 50, 40, 20]\n"
     ]
    }
   ],
   "source": [
    "# Question 1\n",
    "\n",
    "L = [10, 20, 30, 40, 50, 60, 70, 80]\n",
    "print(L)\n",
    "\n",
    "L.append(200)\n",
    "L.append(300)\n",
    "print(L)\n",
    "\n",
    "L.remove(10)\n",
    "L.remove(30)\n",
    "print(L)\n",
    "\n",
    "L.sort()\n",
    "print(L)\n",
    "\n",
    "L.sort(reverse=True)\n",
    "print(L)"
   ]
  },
  {
   "cell_type": "code",
   "execution_count": 22,
   "id": "f2f7a9a4-b906-447b-b5a1-b78745186f34",
   "metadata": {},
   "outputs": [
    {
     "name": "stdout",
     "output_type": "stream",
     "text": [
      "(45, 89.5, 76, 45.4, 89, 92, 58, 45)\n",
      "Highest score is  92  at index  5\n",
      "Lowest score is  45  and it appeared  2  times.\n",
      "[45, 58, 92, 89, 45.4, 76, 89.5, 45]\n"
     ]
    },
    {
     "name": "stdin",
     "output_type": "stream",
     "text": [
      "Enter score to search:  76\n"
     ]
    },
    {
     "name": "stdout",
     "output_type": "stream",
     "text": [
      "76  present in the tuple at index  2\n"
     ]
    }
   ],
   "source": [
    "# Question 2\n",
    "\n",
    "my_tuple = (45, 89.5, 76, 45.4, 89, 92, 58, 45)\n",
    "print(my_tuple)\n",
    "\n",
    "high_score = max(my_tuple)\n",
    "high_score_ind = my_tuple.index(high_score)\n",
    "print(\"Highest score is \", high_score,\" at index \", high_score_ind)\n",
    "\n",
    "low_score = min(my_tuple)\n",
    "low_score_count = my_tuple.count(low_score)\n",
    "print(\"Lowest score is \", low_score, \" and it appeared \", low_score_count, \" times.\")\n",
    "\n",
    "my_list = list(my_tuple[::-1])\n",
    "print(my_list)\n",
    "\n",
    "score = int(input(\"Enter score to search: \"))\n",
    "if score in my_tuple:\n",
    "    print(score, \" present in the tuple at index \", my_tuple.index(score))\n",
    "else:\n",
    "    print(score, \" not present in the tuple.\")"
   ]
  },
  {
   "cell_type": "code",
   "execution_count": 34,
   "id": "852a31a2-356e-47bc-8857-e9d2b18b7303",
   "metadata": {},
   "outputs": [
    {
     "name": "stdout",
     "output_type": "stream",
     "text": [
      "[121, 157, 279, 237, 865, 778, 387, 827, 606, 611, 473, 172, 470, 227, 307, 106, 587, 468, 698, 413, 341, 519, 658, 746, 393, 562, 830, 814, 278, 637, 752, 224, 197, 234, 742, 596, 731, 658, 850, 359, 352, 445, 146, 175, 484, 168, 149, 124, 231, 554, 737, 635, 643, 594, 340, 144, 131, 499, 647, 607, 329, 347, 617, 643, 182, 555, 397, 660, 729, 708, 588, 507, 257, 221, 809, 513, 842, 815, 550, 788, 700, 174, 874, 141, 577, 435, 819, 215, 303, 320, 127, 158, 375, 826, 387, 239, 245, 663, 264, 185]\n",
      "Count of even numbers:  43\n",
      "Count of odd numbers:  57\n",
      "Count of prime numbers:  22\n"
     ]
    }
   ],
   "source": [
    "# Question 3\n",
    "\n",
    "import random as rand\n",
    "\n",
    "my_list = []\n",
    "for i in range(1,101):\n",
    "    my_list.append(rand.randint(100,900))\n",
    "print(my_list)\n",
    "\n",
    "count_even=0\n",
    "count_odd=0\n",
    "count_prime=0\n",
    "\n",
    "for i in my_list:\n",
    "    if i%2==0:\n",
    "        count_even+=1\n",
    "    else:\n",
    "        count_odd+=1\n",
    "    is_prime = 1\n",
    "    for j in range(2,i//2+1):\n",
    "        if i%j==0:\n",
    "            is_prime=0\n",
    "    if is_prime:\n",
    "        count_prime+=1\n",
    "\n",
    "print(\"Count of even numbers: \", count_even)\n",
    "print(\"Count of odd numbers: \", count_odd)\n",
    "print(\"Count of prime numbers: \", count_prime)"
   ]
  },
  {
   "cell_type": "code",
   "execution_count": 42,
   "id": "6e512979-fc1b-4f90-afab-9544102b9e4b",
   "metadata": {},
   "outputs": [
    {
     "name": "stdout",
     "output_type": "stream",
     "text": [
      "Scores of team A:  {56, 34, 90, 78}\n",
      "Scores of team B:  {90, 45, 78, 23}\n",
      "Unique scores achieved by both teams:  {34, 45, 78, 23, 56, 90}\n",
      "Scores that are common to both teams:  {90, 78}\n",
      "Scores exclusive to team A:  {56, 34}\n",
      "Scores exclusive to team B:  {45, 23}\n",
      "Scores of team A are not a subset of team B\n",
      "Scores of team B are not a superset of team A\n"
     ]
    },
    {
     "name": "stdin",
     "output_type": "stream",
     "text": [
      "Enter score to discard:  10\n"
     ]
    },
    {
     "name": "stdout",
     "output_type": "stream",
     "text": [
      "10  not present in the set A.\n"
     ]
    }
   ],
   "source": [
    "# Question 4\n",
    "\n",
    "A = {34, 56, 78, 90}\n",
    "B = {78, 45, 90, 23}\n",
    "\n",
    "print(\"Scores of team A: \",A)\n",
    "print(\"Scores of team B: \",B)\n",
    "print(\"Unique scores achieved by both teams: \", A|B)\n",
    "print(\"Scores that are common to both teams: \", A&B)\n",
    "print(\"Scores exclusive to team A: \", A-B)\n",
    "print(\"Scores exclusive to team B: \", B-A)\n",
    "\n",
    "A_subset_B = A.issubset(B)\n",
    "if A_subset_B:\n",
    "    print(\"Scores of team A are a subset of team B\")\n",
    "else:\n",
    "    print(\"Scores of team A are not a subset of team B\")\n",
    "\n",
    "B_superset_A = B.issuperset(A)\n",
    "if B_superset_A:\n",
    "    print(\"Scores of team B are a superset of team A\")\n",
    "else:\n",
    "    print(\"Scores of team B are not a superset of team A\")\n",
    "\n",
    "score = int(input(\"Enter score to discard: \"))\n",
    "if score in A:\n",
    "    A.discard(score)\n",
    "    print(\"Score of team A after updateion: \",A)\n",
    "else:\n",
    "    print(score,\" not present in the set A.\")\n",
    "    "
   ]
  },
  {
   "cell_type": "code",
   "execution_count": 46,
   "id": "88ec67d0-00f7-42f9-87eb-3e0f1c8e8856",
   "metadata": {},
   "outputs": [
    {
     "name": "stdout",
     "output_type": "stream",
     "text": [
      "{'name': 'Kelly', 'age': 25, 'salary': 8000, 'city': 'New York'}\n",
      "{'name': 'Kelly', 'age': 25, 'salary': 8000, 'location': 'New York'}\n"
     ]
    }
   ],
   "source": [
    "# Question 4\n",
    "\n",
    "sample_dict = { \n",
    "    \"name\": \"Kelly\",\n",
    "    \"age\": 25,\n",
    "    \"salary\": 8000,\n",
    "    \"city\": \"New York\"\n",
    "}\n",
    "print(sample_dict)\n",
    "\n",
    "sample_dict[\"location\"] = sample_dict.pop(\"city\")\n",
    "print(sample_dict)"
   ]
  },
  {
   "cell_type": "code",
   "execution_count": null,
   "id": "7b9ef9e5-52d2-46f1-9fad-8221467db59c",
   "metadata": {},
   "outputs": [],
   "source": []
  }
 ],
 "metadata": {
  "kernelspec": {
   "display_name": "Python [conda env:base] *",
   "language": "python",
   "name": "conda-base-py"
  },
  "language_info": {
   "codemirror_mode": {
    "name": "ipython",
    "version": 3
   },
   "file_extension": ".py",
   "mimetype": "text/x-python",
   "name": "python",
   "nbconvert_exporter": "python",
   "pygments_lexer": "ipython3",
   "version": "3.12.7"
  }
 },
 "nbformat": 4,
 "nbformat_minor": 5
}
